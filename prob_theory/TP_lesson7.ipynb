{
 "cells": [
  {
   "cell_type": "markdown",
   "id": "exact-scout",
   "metadata": {},
   "source": [
    "__Задача 1__\n",
    "\n",
    "Дана матрица объект-признак\n",
    "```\n",
    "X = [[ 1.22401313,  2.30868478,  3.03636353,  2.69287214],\n",
    "     [-0.18757272,  1.30337355,  5.12093014,  3.46363202],\n",
    "     [-0.81094525,  1.82463398,  5.79686488,  1.86159445],\n",
    "     [ 0.75129018,  2.67392052,  3.65529809,  1.66746094],\n",
    "     [ 0.00972362,  1.97367255,  2.50594319,  1.69755173],\n",
    "     [-0.62972637,  0.77750764,  2.84124027,  4.54410559],\n",
    "     [ 2.29536229,  1.81206697,  1.95026215,  1.51874636],\n",
    "     [ 0.0920418 ,  2.26971361,  7.47708735,  2.61081203],\n",
    "     [ 2.39252799,  3.17563985,  3.61420599,  5.10773362],\n",
    "     [ 0.54983815,  2.87988651,  1.65752765,  1.59635987]]\n",
    "```\n",
    "и значения целевой переменной\n",
    "```\n",
    "y = [ 9.26193358,  9.700363  ,  8.67214805,  8.74796974,  6.18689108,\n",
    "      7.53312713,  7.57643777, 12.44965478, 14.29010746,  6.68361218]\n",
    "```\n",
    "\n",
    "Подберите два признака (из четырёх) так, чтобы уровень линейной зависимости целевой переменной от значений этих признаков был максимальным. Другими словами, модель линейной регрессии на этих признаках должна давать наилучший результат. В качестве ответа запишите значение коэффициента детерминации для модели на этих признаках.\n",
    "\n",
    "__Ответ__: 0.76342462\n",
    "\n"
   ]
  },
  {
   "cell_type": "code",
   "execution_count": 1,
   "id": "computational-midwest",
   "metadata": {},
   "outputs": [],
   "source": [
    "from sklearn.linear_model import LinearRegression\n",
    "import numpy as np\n",
    "from scipy import stats"
   ]
  },
  {
   "cell_type": "code",
   "execution_count": 2,
   "id": "bizarre-scottish",
   "metadata": {},
   "outputs": [],
   "source": [
    "x = np.array([[ 1.22401313,  2.30868478,  3.03636353,  2.69287214],\n",
    "              [-0.18757272,  1.30337355,  5.12093014,  3.46363202],\n",
    "              [-0.81094525,  1.82463398,  5.79686488,  1.86159445],\n",
    "              [ 0.75129018,  2.67392052,  3.65529809,  1.66746094],\n",
    "              [ 0.00972362,  1.97367255,  2.50594319,  1.69755173],\n",
    "              [-0.62972637,  0.77750764,  2.84124027,  4.54410559],\n",
    "              [ 2.29536229,  1.81206697,  1.95026215,  1.51874636],\n",
    "              [ 0.0920418 ,  2.26971361,  7.47708735,  2.61081203],\n",
    "              [ 2.39252799,  3.17563985,  3.61420599,  5.10773362],\n",
    "              [ 0.54983815,  2.87988651,  1.65752765,  1.59635987]])"
   ]
  },
  {
   "cell_type": "code",
   "execution_count": 3,
   "id": "suitable-fortune",
   "metadata": {},
   "outputs": [],
   "source": [
    "y = np.array([ 9.26193358,  9.700363  ,  8.67214805,  8.74796974,  6.18689108,\n",
    "      7.53312713,  7.57643777, 12.44965478, 14.29010746,  6.68361218])"
   ]
  },
  {
   "cell_type": "code",
   "execution_count": 4,
   "id": "chief-cross",
   "metadata": {},
   "outputs": [
    {
     "name": "stdout",
     "output_type": "stream",
     "text": [
      "Корреляция с признаком 0:  0.352\n",
      "Корреляция с признаком 1:  0.400\n",
      "Корреляция с признаком 2:  0.583\n",
      "Корреляция с признаком 3:  0.603\n"
     ]
    }
   ],
   "source": [
    "for i in range(4):\n",
    "    print(f'Корреляция с признаком {i}: ', \"%.3f\" % np.corrcoef(x[:,i],y)[0][1])"
   ]
  },
  {
   "cell_type": "code",
   "execution_count": 5,
   "id": "dying-worst",
   "metadata": {},
   "outputs": [],
   "source": [
    "x1 = np.hstack((x[:,0].reshape(10,1), x[:,2].reshape(10,1)))"
   ]
  },
  {
   "cell_type": "code",
   "execution_count": 6,
   "id": "coordinate-green",
   "metadata": {},
   "outputs": [],
   "source": [
    "ones = np.ones((x1.shape[0], 1))"
   ]
  },
  {
   "cell_type": "code",
   "execution_count": 7,
   "id": "boolean-monday",
   "metadata": {},
   "outputs": [
    {
     "data": {
      "text/plain": [
       "LinearRegression()"
      ]
     },
     "execution_count": 7,
     "metadata": {},
     "output_type": "execute_result"
    }
   ],
   "source": [
    "lr = LinearRegression()\n",
    "lr.fit(x1, y)"
   ]
  },
  {
   "cell_type": "code",
   "execution_count": 8,
   "id": "verbal-compound",
   "metadata": {},
   "outputs": [],
   "source": [
    "z = lr.predict(x1)"
   ]
  },
  {
   "cell_type": "code",
   "execution_count": 9,
   "id": "material-polyester",
   "metadata": {},
   "outputs": [
    {
     "data": {
      "text/plain": [
       "0.7634246238793151"
      ]
     },
     "execution_count": 9,
     "metadata": {},
     "output_type": "execute_result"
    }
   ],
   "source": [
    "R2 = lr.score(x1, y)\n",
    "R2"
   ]
  },
  {
   "cell_type": "markdown",
   "id": "vertical-forest",
   "metadata": {},
   "source": [
    "__Задача 2__\n",
    "\n",
    "Является ли значимым уравнение регрессии, полученное в предыдущей задаче? В качестве ответа запишите 1, если является, и 0 иначе.\n",
    "\n",
    "__Ответ__: 1"
   ]
  },
  {
   "cell_type": "code",
   "execution_count": 10,
   "id": "herbal-dancing",
   "metadata": {},
   "outputs": [],
   "source": [
    "n = x1.shape[0]\n",
    "m = 2\n",
    "\n",
    "k1 = m\n",
    "k2 = n - m - 1"
   ]
  },
  {
   "cell_type": "code",
   "execution_count": 11,
   "id": "instrumental-cooking",
   "metadata": {},
   "outputs": [
    {
     "data": {
      "text/plain": [
       "4.73741412777588"
      ]
     },
     "execution_count": 11,
     "metadata": {},
     "output_type": "execute_result"
    }
   ],
   "source": [
    "alpha = 0.05\n",
    "\n",
    "t = stats.f.ppf(1 - alpha, k1, k2)\n",
    "t"
   ]
  },
  {
   "cell_type": "code",
   "execution_count": 12,
   "id": "parental-hungarian",
   "metadata": {},
   "outputs": [
    {
     "data": {
      "text/plain": [
       "11.294439122922642"
      ]
     },
     "execution_count": 12,
     "metadata": {},
     "output_type": "execute_result"
    }
   ],
   "source": [
    "F = (R2 / k1) / ((1 - R2) / k2)\n",
    "F"
   ]
  },
  {
   "cell_type": "raw",
   "id": "considerable-specification",
   "metadata": {},
   "source": [
    "Так как значение статистики попадает в критическую область, то мы отвергаем нулевую гипотезу о незначимости уравнения регрессии."
   ]
  },
  {
   "cell_type": "markdown",
   "id": "herbal-supplement",
   "metadata": {},
   "source": [
    "__Задача 3__\n",
    "\n",
    "Для проведения A/B-тестирования сайта интернет-магазина были получены следующие данные: страница `A` была посещена 2509 раз, из них 77 закончились совершением покупки, страница `B` была посещена 1465 раз, 60 из них закончились совершением покупки. Является ли значимым отличие конверсии на страницах `A` и `B`? В качестве ответа запишите 1, если является, и 0 иначе.\n",
    "\n",
    "_Подсказка_. Реализуйте двухвыборочный t-тест. В качестве выборок здесь можно взять наборы меток совершения покупки (0 или 1) каждым посетителем.\n",
    "\n",
    "__Ответ__: 0"
   ]
  },
  {
   "cell_type": "code",
   "execution_count": 13,
   "id": "catholic-prize",
   "metadata": {},
   "outputs": [],
   "source": [
    "A = np.hstack((np.ones(77), np.zeros(2509-77)))\n",
    "B = np.hstack((np.ones(60), np.zeros(1465-60)))"
   ]
  },
  {
   "cell_type": "code",
   "execution_count": 14,
   "id": "productive-ordering",
   "metadata": {},
   "outputs": [],
   "source": [
    "np.random.shuffle(A)\n",
    "np.random.shuffle(B)"
   ]
  },
  {
   "cell_type": "code",
   "execution_count": 15,
   "id": "reflected-evanescence",
   "metadata": {},
   "outputs": [],
   "source": [
    "n1 = A.size\n",
    "n2 = B.size\n",
    "\n",
    "s1 = A.std(ddof=1)\n",
    "s2 = B.std(ddof=1)"
   ]
  },
  {
   "cell_type": "code",
   "execution_count": 16,
   "id": "vocational-mozambique",
   "metadata": {},
   "outputs": [],
   "source": [
    "s_delta = np.sqrt(s1 ** 2 / n1 + s2 ** 2 / n2)"
   ]
  },
  {
   "cell_type": "code",
   "execution_count": 17,
   "id": "engaging-massachusetts",
   "metadata": {},
   "outputs": [
    {
     "data": {
      "text/plain": [
       "-1.6504551408398205"
      ]
     },
     "execution_count": 17,
     "metadata": {},
     "output_type": "execute_result"
    }
   ],
   "source": [
    "t = (A.mean() - B.mean()) / s_delta\n",
    "t"
   ]
  },
  {
   "cell_type": "code",
   "execution_count": 18,
   "id": "approximate-kitty",
   "metadata": {},
   "outputs": [],
   "source": [
    "df = (s1 ** 2 / n1 + s2 ** 2 / n2) ** 2 / \\\n",
    "    ((s1 ** 2 / n1) ** 2 / (n1 - 1) + (s2 ** 2 / n2) ** 2 / (n2 - 1))"
   ]
  },
  {
   "cell_type": "code",
   "execution_count": 19,
   "id": "leading-organ",
   "metadata": {},
   "outputs": [
    {
     "data": {
      "text/plain": [
       "(-1.9608324352746576, 1.9608324352746571)"
      ]
     },
     "execution_count": 19,
     "metadata": {},
     "output_type": "execute_result"
    }
   ],
   "source": [
    "alpha = 0.05\n",
    "\n",
    "t1 = stats.t.ppf(alpha / 2, df=df)\n",
    "t2 = stats.t.ppf(1 - alpha / 2, df=df)\n",
    "\n",
    "t1, t2"
   ]
  },
  {
   "cell_type": "code",
   "execution_count": 20,
   "id": "trying-segment",
   "metadata": {},
   "outputs": [
    {
     "data": {
      "text/plain": [
       "Ttest_indResult(statistic=-1.6504551408398205, pvalue=0.09896479217925895)"
      ]
     },
     "execution_count": 20,
     "metadata": {},
     "output_type": "execute_result"
    }
   ],
   "source": [
    "stats.ttest_ind(A, B, equal_var=False)"
   ]
  },
  {
   "cell_type": "markdown",
   "id": "raising-modification",
   "metadata": {},
   "source": [
    "Ответ 0. Так как p>alpha, значение статистики не попадает в критическую область, то нулевая гипотеза о значимом отличии в выборках отвергается. Отличия в конверсиях на страницах A и B незначимы."
   ]
  }
 ],
 "metadata": {
  "kernelspec": {
   "display_name": "Python 3",
   "language": "python",
   "name": "python3"
  },
  "language_info": {
   "codemirror_mode": {
    "name": "ipython",
    "version": 3
   },
   "file_extension": ".py",
   "mimetype": "text/x-python",
   "name": "python",
   "nbconvert_exporter": "python",
   "pygments_lexer": "ipython3",
   "version": "3.9.7"
  }
 },
 "nbformat": 4,
 "nbformat_minor": 5
}
