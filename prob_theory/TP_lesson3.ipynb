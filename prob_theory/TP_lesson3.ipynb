{
 "cells": [
  {
   "cell_type": "markdown",
   "id": "dedicated-senate",
   "metadata": {},
   "source": [
    "**Задача 1**\n",
    "Даны значения зарплат из выборки выпускников:\n",
    "100, 80, 75, 77, 89, 33, 45, 25, 65, 17, 30, 230, 24, 57, 55, 70, 75, 65, 84, 90, 150\n",
    " \n",
    "Используя только встроенные питоновские функции и структуры данных (т.е. без библиотек numpy, pandas и др.), посчитайте (несмещённое) среднее квадратичное отклонение для данной выборки.\n",
    "\n",
    "**Ответ: 47.34795214**"
   ]
  },
  {
   "cell_type": "code",
   "execution_count": 16,
   "id": "fuzzy-prompt",
   "metadata": {},
   "outputs": [],
   "source": [
    "data = [100, 80, 75, 77, 89, 33, 45, 25, 65, 17, 30, 230, 24, 57, 55, 70, 75, 65, 84, 90, 150]\n",
    "data.sort()"
   ]
  },
  {
   "cell_type": "code",
   "execution_count": 17,
   "id": "ceramic-frederick",
   "metadata": {},
   "outputs": [],
   "source": [
    "mean = sum(data)/len(data)"
   ]
  },
  {
   "cell_type": "code",
   "execution_count": 18,
   "id": "tight-affect",
   "metadata": {},
   "outputs": [
    {
     "data": {
      "text/plain": [
       "47.347952135531386"
      ]
     },
     "execution_count": 18,
     "metadata": {},
     "output_type": "execute_result"
    }
   ],
   "source": [
    "temp = 0\n",
    "for el in data:\n",
    "    temp += (el-mean)**2\n",
    "(temp/(len(data)-1))**0.5"
   ]
  },
  {
   "cell_type": "markdown",
   "id": "satisfactory-register",
   "metadata": {},
   "source": [
    "**Задача 2**\n",
    "Найдите число выбросов в выборке из задачи 1. Для определения выбросов используйте методику как при построении “усов” в boxplot, однако, как и в задаче 1, пользоваться можно только встроенными функциями и структурами данных.\n",
    "\n",
    "**Ответ: 2**"
   ]
  },
  {
   "cell_type": "code",
   "execution_count": 24,
   "id": "naughty-service",
   "metadata": {},
   "outputs": [
    {
     "data": {
      "text/plain": [
       "(-13.5, 142.5)"
      ]
     },
     "execution_count": 24,
     "metadata": {},
     "output_type": "execute_result"
    }
   ],
   "source": [
    "q1, q3 = data[len(data) // 4], data[3 * len(data) // 4]\n",
    "iqr = q3 - q1\n",
    "boxplot_range = (q1 - 1.5 * iqr, q3 + 1.5 * iqr)\n",
    "boxplot_range"
   ]
  },
  {
   "cell_type": "code",
   "execution_count": 27,
   "id": "elect-preparation",
   "metadata": {},
   "outputs": [
    {
     "data": {
      "text/plain": [
       "2"
      ]
     },
     "execution_count": 27,
     "metadata": {},
     "output_type": "execute_result"
    }
   ],
   "source": [
    "result2 = 0\n",
    "for el in data:\n",
    "    if (el < boxplot_range[0])|(el > boxplot_range[1]):\n",
    "        result2 += 1\n",
    "result2"
   ]
  },
  {
   "cell_type": "markdown",
   "id": "funky-craft",
   "metadata": {},
   "source": [
    "**Задача 3**\n",
    "В университет на факультет A поступило 100 человек, на факультет B - 90 человек и на факультет C - 45 человек. Вероятность того, что студент с факультета A сдаст первую сессию, равна 0.6. Для студента с факультета B эта вероятность равна 0.7, а для студента с факультета C - 0.8. Случайным образом выбирается студент, сдавший первую сессию. Какое событие наиболее вероятно:\n",
    "студент учится на факультете A,\n",
    "студент учится на факультете B,\n",
    "студент учится на факультете C?\n",
    "Замечание: да, эта задача не на тему статистики, но тема важная, и её стоит иногда освежать в памяти.\n",
    "\n",
    "**Ответ: 2**"
   ]
  },
  {
   "cell_type": "code",
   "execution_count": 28,
   "id": "formed-understanding",
   "metadata": {},
   "outputs": [],
   "source": [
    "A = 100 * 0.6\n",
    "B = 90 * 0.7\n",
    "C = 45 * 0.8"
   ]
  },
  {
   "cell_type": "code",
   "execution_count": 29,
   "id": "constitutional-football",
   "metadata": {},
   "outputs": [
    {
     "data": {
      "text/plain": [
       "60.0"
      ]
     },
     "execution_count": 29,
     "metadata": {},
     "output_type": "execute_result"
    }
   ],
   "source": [
    "A"
   ]
  },
  {
   "cell_type": "code",
   "execution_count": 31,
   "id": "christian-theory",
   "metadata": {},
   "outputs": [
    {
     "data": {
      "text/plain": [
       "62.99999999999999"
      ]
     },
     "execution_count": 31,
     "metadata": {},
     "output_type": "execute_result"
    }
   ],
   "source": [
    "B"
   ]
  },
  {
   "cell_type": "code",
   "execution_count": 32,
   "id": "close-cornwall",
   "metadata": {},
   "outputs": [
    {
     "data": {
      "text/plain": [
       "36.0"
      ]
     },
     "execution_count": 32,
     "metadata": {},
     "output_type": "execute_result"
    }
   ],
   "source": [
    "C"
   ]
  },
  {
   "cell_type": "markdown",
   "id": "australian-terrace",
   "metadata": {},
   "source": [
    "Наибольшее числа студентов будет на факультете B из всех трех факультетов. Значит случайным образом выбранный студент, сдавший первую сессию, наиболее вероятно **учится на факультете B**."
   ]
  },
  {
   "cell_type": "code",
   "execution_count": null,
   "id": "quantitative-macintosh",
   "metadata": {},
   "outputs": [],
   "source": []
  }
 ],
 "metadata": {
  "kernelspec": {
   "display_name": "Python 3",
   "language": "python",
   "name": "python3"
  },
  "language_info": {
   "codemirror_mode": {
    "name": "ipython",
    "version": 3
   },
   "file_extension": ".py",
   "mimetype": "text/x-python",
   "name": "python",
   "nbconvert_exporter": "python",
   "pygments_lexer": "ipython3",
   "version": "3.9.7"
  }
 },
 "nbformat": 4,
 "nbformat_minor": 5
}
