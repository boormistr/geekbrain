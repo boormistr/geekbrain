{
 "cells": [
  {
   "cell_type": "markdown",
   "id": "wound-command",
   "metadata": {},
   "source": [
    "1. Случайная непрерывная величина A имеет равномерное распределение на промежутке (200, 800].\n",
    "Найдите ее среднее значение и дисперсию."
   ]
  },
  {
   "cell_type": "code",
   "execution_count": 1,
   "id": "hollywood-touch",
   "metadata": {},
   "outputs": [
    {
     "data": {
      "text/plain": [
       "300.0"
      ]
     },
     "execution_count": 1,
     "metadata": {},
     "output_type": "execute_result"
    }
   ],
   "source": [
    "M = (800 - 200)/2\n",
    "M"
   ]
  },
  {
   "cell_type": "code",
   "execution_count": 2,
   "id": "dominican-seafood",
   "metadata": {},
   "outputs": [
    {
     "data": {
      "text/plain": [
       "30000.0"
      ]
     },
     "execution_count": 2,
     "metadata": {},
     "output_type": "execute_result"
    }
   ],
   "source": [
    "d = ((800 - 200)**2)/12\n",
    "d"
   ]
  },
  {
   "cell_type": "markdown",
   "id": "occupied-diploma",
   "metadata": {},
   "source": [
    "2. О случайной непрерывной равномерно распределенной величине B известно, что ее дисперсия равна 0.2.\n",
    "Можно ли найти правую границу величины B и ее среднее значение зная, что левая граница равна 0.5?\n",
    "Если да, найдите ее.\n"
   ]
  },
  {
   "cell_type": "code",
   "execution_count": 9,
   "id": "centered-accordance",
   "metadata": {},
   "outputs": [],
   "source": [
    "left = 0.5\n",
    "sigma = 0.2 ** 0.5"
   ]
  },
  {
   "cell_type": "code",
   "execution_count": 10,
   "id": "lucky-individual",
   "metadata": {},
   "outputs": [
    {
     "data": {
      "text/plain": [
       "1.8416407864998738"
      ]
     },
     "execution_count": 10,
     "metadata": {},
     "output_type": "execute_result"
    }
   ],
   "source": [
    "mean = left + sigma*3\n",
    "mean"
   ]
  },
  {
   "cell_type": "code",
   "execution_count": 11,
   "id": "musical-cream",
   "metadata": {},
   "outputs": [
    {
     "data": {
      "text/plain": [
       "3.1832815729997477"
      ]
     },
     "execution_count": 11,
     "metadata": {},
     "output_type": "execute_result"
    }
   ],
   "source": [
    "right = left + sigma*6\n",
    "right"
   ]
  },
  {
   "cell_type": "markdown",
   "id": "premier-baseline",
   "metadata": {},
   "source": [
    "Расчет делался на том основании, что нормально распределенная случайная величина отклоняется на 3 сигма в обе стороны относительно среднего."
   ]
  },
  {
   "cell_type": "markdown",
   "id": "determined-muscle",
   "metadata": {},
   "source": [
    "3. Непрерывная случайная величина X распределена нормально и задана плотностью распределения\n",
    "f(x) = (1 / (4 * sqrt(2*pi))) * (exp(-(x+2)**2) / 32).\n",
    "Найдите:\n",
    "а). M(X)\n",
    "б). D(X)\n",
    "в). std(X) (среднее квадратичное отклонение)"
   ]
  },
  {
   "cell_type": "markdown",
   "id": "sexual-nutrition",
   "metadata": {},
   "source": [
    "Из формулы нормального распределения получаем:"
   ]
  },
  {
   "cell_type": "code",
   "execution_count": 12,
   "id": "personal-archive",
   "metadata": {},
   "outputs": [],
   "source": [
    "std = 4\n",
    "D = 16\n",
    "M = 2"
   ]
  },
  {
   "cell_type": "markdown",
   "id": "composed-recommendation",
   "metadata": {},
   "source": [
    "4. Рост взрослого населения города X имеет нормальное распределение.\n",
    "Причем, средний рост равен 174 см, а среднее квадратичное отклонение равно 8 см.\n",
    "Какова вероятность того, что случайным образом выбранный взрослый человек имеет рост:\n",
    "а). больше 182 см\n",
    "б). больше 190 см\n",
    "в). от 166 см до 190 см\n",
    "г). от 166 см до 182 см\n",
    "д). от 158 см до 190 см\n",
    "е). не выше 150 см или не ниже 190 см\n",
    "ё). не выше 150 см или не ниже 198 см\n",
    "ж). ниже 166 см."
   ]
  },
  {
   "cell_type": "code",
   "execution_count": 14,
   "id": "choice-potter",
   "metadata": {},
   "outputs": [],
   "source": [
    "from scipy.stats import norm"
   ]
  },
  {
   "cell_type": "code",
   "execution_count": 19,
   "id": "enclosed-tucson",
   "metadata": {},
   "outputs": [],
   "source": [
    "def lapl(x):\n",
    "    m = 174\n",
    "    s = 8\n",
    "    return norm.cdf((x - m)/s)"
   ]
  },
  {
   "cell_type": "code",
   "execution_count": 20,
   "id": "regulated-intent",
   "metadata": {},
   "outputs": [
    {
     "data": {
      "text/plain": [
       "0.15865525393145707"
      ]
     },
     "execution_count": 20,
     "metadata": {},
     "output_type": "execute_result"
    }
   ],
   "source": [
    "1 - lapl(182)"
   ]
  },
  {
   "cell_type": "code",
   "execution_count": 21,
   "id": "elegant-breach",
   "metadata": {},
   "outputs": [
    {
     "data": {
      "text/plain": [
       "0.02275013194817921"
      ]
     },
     "execution_count": 21,
     "metadata": {},
     "output_type": "execute_result"
    }
   ],
   "source": [
    "1 - lapl(190)"
   ]
  },
  {
   "cell_type": "code",
   "execution_count": 22,
   "id": "standing-material",
   "metadata": {},
   "outputs": [
    {
     "data": {
      "text/plain": [
       "0.8185946141203637"
      ]
     },
     "execution_count": 22,
     "metadata": {},
     "output_type": "execute_result"
    }
   ],
   "source": [
    "lapl(190) - lapl(166)"
   ]
  },
  {
   "cell_type": "code",
   "execution_count": 23,
   "id": "banned-credit",
   "metadata": {},
   "outputs": [
    {
     "data": {
      "text/plain": [
       "0.6826894921370859"
      ]
     },
     "execution_count": 23,
     "metadata": {},
     "output_type": "execute_result"
    }
   ],
   "source": [
    "lapl(182) - lapl(166)"
   ]
  },
  {
   "cell_type": "code",
   "execution_count": 24,
   "id": "fourth-tongue",
   "metadata": {},
   "outputs": [
    {
     "data": {
      "text/plain": [
       "0.9544997361036416"
      ]
     },
     "execution_count": 24,
     "metadata": {},
     "output_type": "execute_result"
    }
   ],
   "source": [
    "lapl(190) - lapl(158)"
   ]
  },
  {
   "cell_type": "code",
   "execution_count": 26,
   "id": "therapeutic-young",
   "metadata": {},
   "outputs": [
    {
     "data": {
      "text/plain": [
       "0.0241000299798093"
      ]
     },
     "execution_count": 26,
     "metadata": {},
     "output_type": "execute_result"
    }
   ],
   "source": [
    "lapl(150) + (1-lapl(190))"
   ]
  },
  {
   "cell_type": "code",
   "execution_count": 27,
   "id": "cloudy-graham",
   "metadata": {},
   "outputs": [
    {
     "data": {
      "text/plain": [
       "0.0026997960632601965"
      ]
     },
     "execution_count": 27,
     "metadata": {},
     "output_type": "execute_result"
    }
   ],
   "source": [
    "lapl(150) + (1-lapl(198))"
   ]
  },
  {
   "cell_type": "code",
   "execution_count": 31,
   "id": "bronze-submission",
   "metadata": {},
   "outputs": [
    {
     "data": {
      "text/plain": [
       "0.15865525393145707"
      ]
     },
     "execution_count": 31,
     "metadata": {},
     "output_type": "execute_result"
    }
   ],
   "source": [
    "lapl(166)"
   ]
  },
  {
   "cell_type": "markdown",
   "id": "necessary-springer",
   "metadata": {},
   "source": [
    "5. На сколько сигм (средних квадратичных отклонений) отклоняется рост человека, равный 190 см, от\n",
    "математического ожидания роста в популяции, в которой M(X) = 178 см и D(X) = 25 кв.см?\n"
   ]
  },
  {
   "cell_type": "code",
   "execution_count": 32,
   "id": "formed-landing",
   "metadata": {},
   "outputs": [
    {
     "data": {
      "text/plain": [
       "2.4"
      ]
     },
     "execution_count": 32,
     "metadata": {},
     "output_type": "execute_result"
    }
   ],
   "source": [
    "(190-178)/(25**0.5)"
   ]
  }
 ],
 "metadata": {
  "kernelspec": {
   "display_name": "Python 3",
   "language": "python",
   "name": "python3"
  },
  "language_info": {
   "codemirror_mode": {
    "name": "ipython",
    "version": 3
   },
   "file_extension": ".py",
   "mimetype": "text/x-python",
   "name": "python",
   "nbconvert_exporter": "python",
   "pygments_lexer": "ipython3",
   "version": "3.9.7"
  }
 },
 "nbformat": 4,
 "nbformat_minor": 5
}
