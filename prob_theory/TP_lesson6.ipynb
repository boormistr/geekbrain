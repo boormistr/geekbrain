{
 "cells": [
  {
   "cell_type": "code",
   "execution_count": 1,
   "id": "breeding-slovak",
   "metadata": {},
   "outputs": [],
   "source": [
    "import numpy as np\n",
    "import pandas as pd\n",
    "from scipy import stats"
   ]
  },
  {
   "cell_type": "markdown",
   "id": "inclusive-labor",
   "metadata": {},
   "source": [
    "1. Даны значения величины заработной платы заемщиков банка (zp) и значения их поведенческого кредитного скоринга (ks):\n",
    "zp = [35, 45, 190, 200, 40, 70, 54, 150, 120, 110],\n",
    "ks = [401, 574, 874, 919, 459, 739, 653, 902, 746, 832].\n",
    "Найдите ковариацию этих двух величин с помощью элементарных действий, а затем с помощью функции cov из numpy\n",
    "Полученные значения должны быть равны.\n",
    "Найдите коэффициент корреляции Пирсона с помощью ковариации и среднеквадратичных отклонений двух признаков,\n",
    "а затем с использованием функций из библиотек numpy и pandas."
   ]
  },
  {
   "cell_type": "code",
   "execution_count": 2,
   "id": "editorial-contact",
   "metadata": {},
   "outputs": [],
   "source": [
    "zp = [35, 45, 190, 200, 40, 70, 54, 150, 120, 110]\n",
    "ks = [401, 574, 874, 919, 459, 739, 653, 902, 746, 832]"
   ]
  },
  {
   "cell_type": "code",
   "execution_count": 3,
   "id": "excellent-arbitration",
   "metadata": {},
   "outputs": [],
   "source": [
    "zp_mean = np.mean(zp)\n",
    "ks_mean = np.mean(ks)"
   ]
  },
  {
   "cell_type": "markdown",
   "id": "chief-poster",
   "metadata": {},
   "source": [
    "### Ковариация"
   ]
  },
  {
   "cell_type": "code",
   "execution_count": 4,
   "id": "secure-condition",
   "metadata": {},
   "outputs": [
    {
     "data": {
      "text/plain": [
       "10175.37777777778"
      ]
     },
     "execution_count": 4,
     "metadata": {},
     "output_type": "execute_result"
    }
   ],
   "source": [
    "cov = ((zp - zp_mean)*(ks - ks_mean)).sum()/(len(zp)-1)\n",
    "cov"
   ]
  },
  {
   "cell_type": "code",
   "execution_count": 5,
   "id": "alive-front",
   "metadata": {},
   "outputs": [
    {
     "data": {
      "text/plain": [
       "array([[ 3882.93333333, 10175.37777778],\n",
       "       [10175.37777778, 33854.32222222]])"
      ]
     },
     "execution_count": 5,
     "metadata": {},
     "output_type": "execute_result"
    }
   ],
   "source": [
    "np.cov(zp, ks, ddof=1)"
   ]
  },
  {
   "cell_type": "markdown",
   "id": "quantitative-conversion",
   "metadata": {},
   "source": [
    "### Корреляция"
   ]
  },
  {
   "cell_type": "code",
   "execution_count": 6,
   "id": "french-anaheim",
   "metadata": {},
   "outputs": [
    {
     "data": {
      "text/plain": [
       "0.8874900920739164"
      ]
     },
     "execution_count": 6,
     "metadata": {},
     "output_type": "execute_result"
    }
   ],
   "source": [
    "corr = cov / (np.std(zp, ddof=1) * np.std(ks, ddof=1))\n",
    "corr"
   ]
  },
  {
   "cell_type": "code",
   "execution_count": 7,
   "id": "threatened-strain",
   "metadata": {},
   "outputs": [
    {
     "data": {
      "text/plain": [
       "array([[1.        , 0.88749009],\n",
       "       [0.88749009, 1.        ]])"
      ]
     },
     "execution_count": 7,
     "metadata": {},
     "output_type": "execute_result"
    }
   ],
   "source": [
    "np.corrcoef(zp, ks)"
   ]
  },
  {
   "cell_type": "code",
   "execution_count": 8,
   "id": "familiar-armor",
   "metadata": {},
   "outputs": [],
   "source": [
    "df = pd.DataFrame({'zp': zp, 'ks': ks})"
   ]
  },
  {
   "cell_type": "code",
   "execution_count": 9,
   "id": "brutal-miami",
   "metadata": {},
   "outputs": [
    {
     "data": {
      "text/html": [
       "<div>\n",
       "<style scoped>\n",
       "    .dataframe tbody tr th:only-of-type {\n",
       "        vertical-align: middle;\n",
       "    }\n",
       "\n",
       "    .dataframe tbody tr th {\n",
       "        vertical-align: top;\n",
       "    }\n",
       "\n",
       "    .dataframe thead th {\n",
       "        text-align: right;\n",
       "    }\n",
       "</style>\n",
       "<table border=\"1\" class=\"dataframe\">\n",
       "  <thead>\n",
       "    <tr style=\"text-align: right;\">\n",
       "      <th></th>\n",
       "      <th>zp</th>\n",
       "      <th>ks</th>\n",
       "    </tr>\n",
       "  </thead>\n",
       "  <tbody>\n",
       "    <tr>\n",
       "      <th>zp</th>\n",
       "      <td>1.00000</td>\n",
       "      <td>0.88749</td>\n",
       "    </tr>\n",
       "    <tr>\n",
       "      <th>ks</th>\n",
       "      <td>0.88749</td>\n",
       "      <td>1.00000</td>\n",
       "    </tr>\n",
       "  </tbody>\n",
       "</table>\n",
       "</div>"
      ],
      "text/plain": [
       "         zp       ks\n",
       "zp  1.00000  0.88749\n",
       "ks  0.88749  1.00000"
      ]
     },
     "execution_count": 9,
     "metadata": {},
     "output_type": "execute_result"
    }
   ],
   "source": [
    "df[['zp', 'ks']].corr()"
   ]
  },
  {
   "cell_type": "markdown",
   "id": "white-disclaimer",
   "metadata": {},
   "source": [
    "2. Измерены значения IQ выборки студентов,\n",
    "обучающихся в местных технических вузах:\n",
    "131, 125, 115, 122, 131, 115, 107, 99, 125, 111.\n",
    "Известно, что в генеральной совокупности IQ распределен нормально.\n",
    "Найдите доверительный интервал для математического ожидания с надежностью 0.95."
   ]
  },
  {
   "cell_type": "code",
   "execution_count": 10,
   "id": "aerial-reporter",
   "metadata": {},
   "outputs": [],
   "source": [
    "iq = [131, 125, 115, 122, 131, 115, 107, 99, 125, 111]"
   ]
  },
  {
   "cell_type": "code",
   "execution_count": 11,
   "id": "disturbed-lindsay",
   "metadata": {},
   "outputs": [],
   "source": [
    "std = np.std(iq, ddof=1)\n",
    "mean = np.mean(iq)\n",
    "n = len(iq)"
   ]
  },
  {
   "cell_type": "code",
   "execution_count": 12,
   "id": "romance-peace",
   "metadata": {},
   "outputs": [],
   "source": [
    "p = 0.95\n",
    "alpha = 1 - p\n",
    "t1 = stats.t.ppf(alpha / 2, df = 1)\n",
    "t2 = stats.t.ppf(1 - alpha / 2, df = 1)"
   ]
  },
  {
   "cell_type": "code",
   "execution_count": 13,
   "id": "likely-campbell",
   "metadata": {},
   "outputs": [],
   "source": [
    "high = mean + t2 * std / np.sqrt(n)"
   ]
  },
  {
   "cell_type": "code",
   "execution_count": 14,
   "id": "banned-mounting",
   "metadata": {},
   "outputs": [],
   "source": [
    "low = mean + t1 * std / np.sqrt(n)"
   ]
  },
  {
   "cell_type": "code",
   "execution_count": 15,
   "id": "reasonable-transparency",
   "metadata": {},
   "outputs": [
    {
     "data": {
      "text/plain": [
       "'Нижняя граница: 75.7269291912038.  Верхняя граница: 160.4730708087962'"
      ]
     },
     "execution_count": 15,
     "metadata": {},
     "output_type": "execute_result"
    }
   ],
   "source": [
    "f'Нижняя граница: {low}.  Верхняя граница: {high}'"
   ]
  },
  {
   "cell_type": "markdown",
   "id": "looking-movement",
   "metadata": {},
   "source": [
    "3. Известно, что рост футболистов в сборной распределен нормально\n",
    "с дисперсией генеральной совокупности, равной 25 кв.см. Объем выборки равен 27,\n",
    "среднее выборочное составляет 174.2. Найдите доверительный интервал для математического\n",
    "ожидания с надежностью 0.95."
   ]
  },
  {
   "cell_type": "code",
   "execution_count": 16,
   "id": "defensive-spouse",
   "metadata": {},
   "outputs": [],
   "source": [
    "disp = 25\n",
    "std = disp**0.5\n",
    "n = 27\n",
    "mean = 174.2"
   ]
  },
  {
   "cell_type": "code",
   "execution_count": 17,
   "id": "powered-belfast",
   "metadata": {},
   "outputs": [],
   "source": [
    "p = 0.95\n",
    "alpha = 1 - p\n",
    "t1 = stats.norm.ppf(alpha / 2)\n",
    "t2 = stats.norm.ppf(1 - alpha / 2)"
   ]
  },
  {
   "cell_type": "code",
   "execution_count": 18,
   "id": "standing-collins",
   "metadata": {},
   "outputs": [],
   "source": [
    "high = mean + t2 * std / np.sqrt(n)"
   ]
  },
  {
   "cell_type": "code",
   "execution_count": 19,
   "id": "obvious-confidence",
   "metadata": {},
   "outputs": [],
   "source": [
    "low = mean + t1 * std / np.sqrt(n)"
   ]
  },
  {
   "cell_type": "code",
   "execution_count": 20,
   "id": "mediterranean-illness",
   "metadata": {},
   "outputs": [
    {
     "data": {
      "text/plain": [
       "'Нижняя граница: 172.3140237765397.  Верхняя граница: 176.08597622346028'"
      ]
     },
     "execution_count": 20,
     "metadata": {},
     "output_type": "execute_result"
    }
   ],
   "source": [
    "f'Нижняя граница: {low}.  Верхняя граница: {high}'"
   ]
  },
  {
   "cell_type": "markdown",
   "id": "pretty-backing",
   "metadata": {},
   "source": [
    "4. Выберите тему для проектной работы по курсу Теории вероятностей и математической статистики\n",
    "и напишите ее в комментарии к Практическому заданию."
   ]
  },
  {
   "cell_type": "markdown",
   "id": "placed-reader",
   "metadata": {},
   "source": [
    "Статистический анализ тестового датасета"
   ]
  }
 ],
 "metadata": {
  "kernelspec": {
   "display_name": "Python 3",
   "language": "python",
   "name": "python3"
  },
  "language_info": {
   "codemirror_mode": {
    "name": "ipython",
    "version": 3
   },
   "file_extension": ".py",
   "mimetype": "text/x-python",
   "name": "python",
   "nbconvert_exporter": "python",
   "pygments_lexer": "ipython3",
   "version": "3.9.7"
  }
 },
 "nbformat": 4,
 "nbformat_minor": 5
}
