{
 "cells": [
  {
   "cell_type": "raw",
   "id": "bridal-clearance",
   "metadata": {},
   "source": [
    "Стандартная версия\n",
    "Нужно реализовать rest api на базе flask в google colab.\n",
    "\n",
    "выбрать себе датасет (который интересен или нравится больше всего, можно глянуть здесь https://economic-caper-a4c.notion.site/d062c410b90145bca90fc23b1348c813), сделать pipeline (преобразования + модель), сохранить его на диск. Если не хочется пайплайн, то можно без него, но так вам же будет удобнее потом вызывать его из кода сервиса.\n",
    "Реализовать ноутбук с сервером\n",
    "Реализовать ноутбук с клиентом\n",
    "Сложная версия\n",
    "\n",
    "Нужно реализовать rest api на базе flask (пример https://github.com/fimochka-sudo/GB_docker_flask_example)\n",
    "\n",
    "выбрать себе датасет (который интересен или нравится больше всего, можно глянуть здесь https://economic-caper-a4c.notion.site/d062c410b90145bca90fc23b1348c813), сделать pipeline (преобразования + модель), сохранить его на диск. Если не хочется пайплайн, то можно без него, но так вам же будет удобнее потом вызывать его из кода сервиса.\n",
    "для вашего проекта вам понадобится requirements.txt с пакетами. Можно за основу взять такой файл из проекта выше. Для его установки прям в pycharm можно открыть терминал и сделать pip install -r requirements.txt (находясь в корне проекта)\n",
    "итоговый проект должен содержать:\n",
    "каталог app/models/ (здесь модель-пайплайн предобученная либо код обучения модели-пайплайна)\n",
    "файл app/run_server.py (здесь основной код flask-приложения)\n",
    "requirements.txt (список пакетов, которые у вас используются в проекте - в корне проекта)\n",
    "README.md (здесь какое-то описание, что вы делаете, что за данные, как запускать и т.д)\n",
    "*Dockerfile\n",
    "*docker-entrypoint.sh\n",
    "*front-end сервис какой-то, который умеет принимать от пользователя введеные данные и ходить в ваш api. На самом деле полезно больше вам, т.к если ваш проект будет далее развиваться (новые модели, интересные подходы), то это хороший пунктик к резюме и в принципе - строчка в портфолио)"
   ]
  },
  {
   "cell_type": "code",
   "execution_count": 1,
   "id": "respiratory-simpson",
   "metadata": {},
   "outputs": [
    {
     "name": "stderr",
     "output_type": "stream",
     "text": [
      "/home/boormistr/.local/lib/python3.9/site-packages/xgboost/compat.py:36: FutureWarning: pandas.Int64Index is deprecated and will be removed from pandas in a future version. Use pandas.Index with the appropriate dtype instead.\n",
      "  from pandas import MultiIndex, Int64Index\n"
     ]
    }
   ],
   "source": [
    "import pandas as pd\n",
    "import numpy as np\n",
    "import dill\n",
    "\n",
    "from sklearn.feature_extraction.text import TfidfVectorizer\n",
    "from sklearn.model_selection import train_test_split, cross_val_score\n",
    "from sklearn.base import BaseEstimator, TransformerMixin\n",
    "from sklearn.feature_extraction.text import TfidfVectorizer\n",
    "from sklearn.pipeline import Pipeline, make_pipeline\n",
    "from sklearn.metrics import precision_recall_curve, roc_curve, roc_auc_score, confusion_matrix\n",
    "\n",
    "from xgboost import XGBClassifier\n",
    "from sklearn.linear_model import LogisticRegression"
   ]
  },
  {
   "cell_type": "code",
   "execution_count": 2,
   "id": "brazilian-holder",
   "metadata": {},
   "outputs": [],
   "source": [
    "df = pd.read_csv('train.csv')"
   ]
  },
  {
   "cell_type": "code",
   "execution_count": 3,
   "id": "protected-progressive",
   "metadata": {},
   "outputs": [],
   "source": [
    "num_cols = list(df.select_dtypes(include='number').columns)"
   ]
  },
  {
   "cell_type": "code",
   "execution_count": 4,
   "id": "prostate-boost",
   "metadata": {},
   "outputs": [],
   "source": [
    "df['target'] = df[num_cols].max(axis=1).values"
   ]
  },
  {
   "cell_type": "code",
   "execution_count": 5,
   "id": "starting-tucson",
   "metadata": {},
   "outputs": [],
   "source": [
    "X_train, X_test, y_train, y_test = train_test_split(df[['id', 'comment_text']], df['target'],\n",
    "                                                    random_state=42)"
   ]
  },
  {
   "cell_type": "code",
   "execution_count": 6,
   "id": "severe-survival",
   "metadata": {},
   "outputs": [
    {
     "data": {
      "text/html": [
       "<div>\n",
       "<style scoped>\n",
       "    .dataframe tbody tr th:only-of-type {\n",
       "        vertical-align: middle;\n",
       "    }\n",
       "\n",
       "    .dataframe tbody tr th {\n",
       "        vertical-align: top;\n",
       "    }\n",
       "\n",
       "    .dataframe thead th {\n",
       "        text-align: right;\n",
       "    }\n",
       "</style>\n",
       "<table border=\"1\" class=\"dataframe\">\n",
       "  <thead>\n",
       "    <tr style=\"text-align: right;\">\n",
       "      <th></th>\n",
       "      <th>id</th>\n",
       "      <th>comment_text</th>\n",
       "    </tr>\n",
       "  </thead>\n",
       "  <tbody>\n",
       "    <tr>\n",
       "      <th>75144</th>\n",
       "      <td>c912439967ba8a35</td>\n",
       "      <td>,  I have added the newline sign back in, you ...</td>\n",
       "    </tr>\n",
       "    <tr>\n",
       "      <th>154769</th>\n",
       "      <td>b312f612d3394d5b</td>\n",
       "      <td>Don't worry, I think I fixed it. But still loo...</td>\n",
       "    </tr>\n",
       "    <tr>\n",
       "      <th>48346</th>\n",
       "      <td>813c210bf7f27377</td>\n",
       "      <td>\"\\nWell it seems to me that you have a problem...</td>\n",
       "    </tr>\n",
       "    <tr>\n",
       "      <th>72576</th>\n",
       "      <td>c231999bc75dcd9e</td>\n",
       "      <td>Contents\\nThe contents box just appears when t...</td>\n",
       "    </tr>\n",
       "    <tr>\n",
       "      <th>79974</th>\n",
       "      <td>d60a1de68cf593c1</td>\n",
       "      <td>\" \\n\\n(Btw., did you know the article links to...</td>\n",
       "    </tr>\n",
       "    <tr>\n",
       "      <th>...</th>\n",
       "      <td>...</td>\n",
       "      <td>...</td>\n",
       "    </tr>\n",
       "    <tr>\n",
       "      <th>119879</th>\n",
       "      <td>811ed72c51830f42</td>\n",
       "      <td>REDIRECT Talk:John Loveday (experimental physi...</td>\n",
       "    </tr>\n",
       "    <tr>\n",
       "      <th>103694</th>\n",
       "      <td>2acc7c7d0386401f</td>\n",
       "      <td>Back it up. Post the line here with the refere...</td>\n",
       "    </tr>\n",
       "    <tr>\n",
       "      <th>131932</th>\n",
       "      <td>c1f95b89050a9ee4</td>\n",
       "      <td>I won't stop that. Sometimes Germanic equals G...</td>\n",
       "    </tr>\n",
       "    <tr>\n",
       "      <th>146867</th>\n",
       "      <td>32e8bdecfe1d66f0</td>\n",
       "      <td>\"\\n\\n British Bands?  \\n\\nI think you've mista...</td>\n",
       "    </tr>\n",
       "    <tr>\n",
       "      <th>121958</th>\n",
       "      <td>8c6c5e4228fb6ba8</td>\n",
       "      <td>You are WRONG. \\n\\nJustin Thompson is mentione...</td>\n",
       "    </tr>\n",
       "  </tbody>\n",
       "</table>\n",
       "<p>119678 rows × 2 columns</p>\n",
       "</div>"
      ],
      "text/plain": [
       "                      id                                       comment_text\n",
       "75144   c912439967ba8a35  ,  I have added the newline sign back in, you ...\n",
       "154769  b312f612d3394d5b  Don't worry, I think I fixed it. But still loo...\n",
       "48346   813c210bf7f27377  \"\\nWell it seems to me that you have a problem...\n",
       "72576   c231999bc75dcd9e  Contents\\nThe contents box just appears when t...\n",
       "79974   d60a1de68cf593c1  \" \\n\\n(Btw., did you know the article links to...\n",
       "...                  ...                                                ...\n",
       "119879  811ed72c51830f42  REDIRECT Talk:John Loveday (experimental physi...\n",
       "103694  2acc7c7d0386401f  Back it up. Post the line here with the refere...\n",
       "131932  c1f95b89050a9ee4  I won't stop that. Sometimes Germanic equals G...\n",
       "146867  32e8bdecfe1d66f0  \"\\n\\n British Bands?  \\n\\nI think you've mista...\n",
       "121958  8c6c5e4228fb6ba8  You are WRONG. \\n\\nJustin Thompson is mentione...\n",
       "\n",
       "[119678 rows x 2 columns]"
      ]
     },
     "execution_count": 6,
     "metadata": {},
     "output_type": "execute_result"
    }
   ],
   "source": [
    "X_train"
   ]
  },
  {
   "cell_type": "code",
   "execution_count": 7,
   "id": "varied-screw",
   "metadata": {},
   "outputs": [],
   "source": [
    "X_test.to_csv('X_test.csv', index=False)"
   ]
  },
  {
   "cell_type": "code",
   "execution_count": 8,
   "id": "upper-polls",
   "metadata": {},
   "outputs": [],
   "source": [
    "class FeatureSelector(BaseEstimator, TransformerMixin):\n",
    "    def __init__(self, column):\n",
    "        self.column = column\n",
    "        \n",
    "    def fit(self, X, y=None):\n",
    "        return self\n",
    "    \n",
    "    def transform(self, X, y=None):\n",
    "        return X[self.column]"
   ]
  },
  {
   "cell_type": "code",
   "execution_count": 9,
   "id": "temporal-found",
   "metadata": {},
   "outputs": [],
   "source": [
    "pipeline = Pipeline([('comment_text_selector', FeatureSelector(column='comment_text')),\n",
    "                       ('comment_text_tfidf', TfidfVectorizer(strip_accents='unicode',\n",
    "                                                             analyzer='word',\n",
    "                                                             token_pattern=r'\\w{1,}',\n",
    "                                                             stop_words='english',\n",
    "                                                             max_features=10000)),\n",
    "                       ('clf', LogisticRegression())])\n",
    "#                        ('clf', XGBClassifier(verbose=False))])"
   ]
  },
  {
   "cell_type": "code",
   "execution_count": 10,
   "id": "endless-printer",
   "metadata": {},
   "outputs": [],
   "source": [
    "pipeline.fit(X_train, y_train)\n",
    "y_score = pipeline.predict_proba(X_test)[:, 1]"
   ]
  },
  {
   "cell_type": "code",
   "execution_count": 11,
   "id": "convinced-puzzle",
   "metadata": {},
   "outputs": [],
   "source": [
    "b = 1\n",
    "precision, recall, thresholds = precision_recall_curve(y_test.values, y_score)"
   ]
  },
  {
   "cell_type": "code",
   "execution_count": 12,
   "id": "inclusive-investigation",
   "metadata": {},
   "outputs": [
    {
     "name": "stdout",
     "output_type": "stream",
     "text": [
      "Best Threshold=0.2929884260176707, F-Score=0.786, Precision=0.840, Recall=0.737\n"
     ]
    }
   ],
   "source": [
    "f_score = (1 + b**2) * (precision * recall) / (b**2 * precision + recall)\n",
    "ix = np.argmax(f_score)\n",
    "print(f'Best Threshold={thresholds[ix]}, F-Score={f_score[ix]:.3f}, Precision={precision[ix]:.3f}, Recall={recall[ix]:.3f}')"
   ]
  },
  {
   "cell_type": "code",
   "execution_count": null,
   "id": "successful-ordinance",
   "metadata": {},
   "outputs": [],
   "source": [
    "with open('xgboost_pipeline.dill', 'wb') as f:\n",
    "    dill.dump(pipeline, f)"
   ]
  },
  {
   "cell_type": "code",
   "execution_count": null,
   "id": "future-jefferson",
   "metadata": {},
   "outputs": [],
   "source": []
  }
 ],
 "metadata": {
  "kernelspec": {
   "display_name": "Python 3",
   "language": "python",
   "name": "python3"
  },
  "language_info": {
   "codemirror_mode": {
    "name": "ipython",
    "version": 3
   },
   "file_extension": ".py",
   "mimetype": "text/x-python",
   "name": "python",
   "nbconvert_exporter": "python",
   "pygments_lexer": "ipython3",
   "version": "3.9.7"
  }
 },
 "nbformat": 4,
 "nbformat_minor": 5
}
