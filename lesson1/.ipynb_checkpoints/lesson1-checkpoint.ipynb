{
 "cells": [
  {
   "cell_type": "markdown",
   "metadata": {
    "colab_type": "text",
    "id": "view-in-github"
   },
   "source": [
    "<a href=\"https://colab.research.google.com/github/boormistr/trainer/blob/master/HW1.ipynb\" target=\"_parent\"><img src=\"https://colab.research.google.com/assets/colab-badge.svg\" alt=\"Open In Colab\"/></a>"
   ]
  },
  {
   "cell_type": "markdown",
   "metadata": {
    "id": "alBKPK_8ZVCv"
   },
   "source": [
    "Автор материала: Зраев Артем.\n",
    "\n",
    "Можно использовать в каких угодно целях."
   ]
  },
  {
   "cell_type": "markdown",
   "metadata": {
    "id": "v85ljyexZVC2"
   },
   "source": [
    "<b> В задании нужно загрузить датасет с данными оттока и ответить на несколько вопросов (написать код). При этом сам датасет уже есть и его необязательно качать с репозитория</b>"
   ]
  },
  {
   "cell_type": "markdown",
   "metadata": {
    "id": "znJE9vwDZVC5"
   },
   "source": [
    "Цель задания: проверить базовые навыки работы студентов с Pandas, умение проводить такой же базовый EDA (exploratory data analysis), делать feature engineering и обучать и валидировать модель."
   ]
  },
  {
   "cell_type": "markdown",
   "metadata": {
    "id": "2PXeC6MEZVC-"
   },
   "source": [
    "Список столбцов с типами данных в датасете:\n",
    "\n",
    "- customerID           object\n",
    "- gender               object\n",
    "- SeniorCitizen         int64\n",
    "- Partner              object\n",
    "- Dependents           object\n",
    "- tenure                int64\n",
    "- PhoneService         object\n",
    "- MultipleLines        object\n",
    "- InternetService      object\n",
    "- OnlineSecurity       object\n",
    "- OnlineBackup         object\n",
    "- DeviceProtection     object\n",
    "- TechSupport          object\n",
    "- StreamingTV          object\n",
    "- StreamingMovies      object\n",
    "- Contract             object\n",
    "- PaperlessBilling     object\n",
    "- PaymentMethod        object\n",
    "- MonthlyCharges      float64\n",
    "- TotalCharges         object\n",
    "- Churn                object"
   ]
  },
  {
   "cell_type": "markdown",
   "metadata": {
    "id": "yr1LD0O3aA5r"
   },
   "source": [
    "Данные лежат на google диске по [ссылке](https://drive.google.com/file/d/1g8lsZO25O2SxuCrIYVSDV3eLqmfC-TCZ/view?usp=sharing)."
   ]
  },
  {
   "cell_type": "code",
   "execution_count": 1,
   "metadata": {
    "colab": {
     "base_uri": "https://localhost:8080/"
    },
    "id": "QNrC1b9CZ2Ry",
    "outputId": "cea39384-ddfc-4f6d-d286-c15f2551264b"
   },
   "outputs": [
    {
     "name": "stdout",
     "output_type": "stream",
     "text": [
      "--2022-04-08 08:20:07--  https://drive.google.com/uc?export=download&id=1g8lsZO25O2SxuCrIYVSDV3eLqmfC-TCZ\n",
      "Resolving drive.google.com (drive.google.com)... 64.233.162.194, 2a00:1450:4010:c05::c2\n",
      "Connecting to drive.google.com (drive.google.com)|64.233.162.194|:443... connected.\n",
      "HTTP request sent, awaiting response... 303 See Other\n",
      "Location: https://doc-08-c0-docs.googleusercontent.com/docs/securesc/ha0ro937gcuc7l7deffksulhg5h7mbp1/b2ujgs2vtjq8sq6bnpahcn4a5u5d56o7/1649395200000/14904333240138417226/*/1g8lsZO25O2SxuCrIYVSDV3eLqmfC-TCZ?e=download [following]\n",
      "Warning: wildcards not supported in HTTP.\n",
      "--2022-04-08 08:20:07--  https://doc-08-c0-docs.googleusercontent.com/docs/securesc/ha0ro937gcuc7l7deffksulhg5h7mbp1/b2ujgs2vtjq8sq6bnpahcn4a5u5d56o7/1649395200000/14904333240138417226/*/1g8lsZO25O2SxuCrIYVSDV3eLqmfC-TCZ?e=download\n",
      "Resolving doc-08-c0-docs.googleusercontent.com (doc-08-c0-docs.googleusercontent.com)... 64.233.165.132, 2a00:1450:4010:c08::84\n",
      "Connecting to doc-08-c0-docs.googleusercontent.com (doc-08-c0-docs.googleusercontent.com)|64.233.165.132|:443... connected.\n",
      "HTTP request sent, awaiting response... 200 OK\n",
      "Length: 977501 (955K) [text/csv]\n",
      "Saving to: ‘WA_Fn-UseC_-Telco-Customer-Churn.csv’\n",
      "\n",
      "WA_Fn-UseC_-Telco-C 100%[===================>] 954,59K  --.-KB/s    in 0,1s    \n",
      "\n",
      "2022-04-08 08:20:08 (7,66 MB/s) - ‘WA_Fn-UseC_-Telco-Customer-Churn.csv’ saved [977501/977501]\n",
      "\n"
     ]
    }
   ],
   "source": [
    "!wget 'https://drive.google.com/uc?export=download&id=1g8lsZO25O2SxuCrIYVSDV3eLqmfC-TCZ' -O WA_Fn-UseC_-Telco-Customer-Churn.csv"
   ]
  },
  {
   "cell_type": "code",
   "execution_count": 2,
   "metadata": {
    "colab": {
     "base_uri": "https://localhost:8080/",
     "height": 242
    },
    "id": "q3ZGnjRPZVDE",
    "outputId": "d6ace0c8-6c99-4471-9417-66450924f3ee"
   },
   "outputs": [
    {
     "data": {
      "text/html": [
       "<div>\n",
       "<style scoped>\n",
       "    .dataframe tbody tr th:only-of-type {\n",
       "        vertical-align: middle;\n",
       "    }\n",
       "\n",
       "    .dataframe tbody tr th {\n",
       "        vertical-align: top;\n",
       "    }\n",
       "\n",
       "    .dataframe thead th {\n",
       "        text-align: right;\n",
       "    }\n",
       "</style>\n",
       "<table border=\"1\" class=\"dataframe\">\n",
       "  <thead>\n",
       "    <tr style=\"text-align: right;\">\n",
       "      <th></th>\n",
       "      <th>customerID</th>\n",
       "      <th>gender</th>\n",
       "      <th>SeniorCitizen</th>\n",
       "      <th>Partner</th>\n",
       "      <th>Dependents</th>\n",
       "      <th>tenure</th>\n",
       "      <th>PhoneService</th>\n",
       "      <th>MultipleLines</th>\n",
       "      <th>InternetService</th>\n",
       "      <th>OnlineSecurity</th>\n",
       "      <th>...</th>\n",
       "      <th>DeviceProtection</th>\n",
       "      <th>TechSupport</th>\n",
       "      <th>StreamingTV</th>\n",
       "      <th>StreamingMovies</th>\n",
       "      <th>Contract</th>\n",
       "      <th>PaperlessBilling</th>\n",
       "      <th>PaymentMethod</th>\n",
       "      <th>MonthlyCharges</th>\n",
       "      <th>TotalCharges</th>\n",
       "      <th>Churn</th>\n",
       "    </tr>\n",
       "  </thead>\n",
       "  <tbody>\n",
       "    <tr>\n",
       "      <th>0</th>\n",
       "      <td>7590-VHVEG</td>\n",
       "      <td>Female</td>\n",
       "      <td>0</td>\n",
       "      <td>Yes</td>\n",
       "      <td>No</td>\n",
       "      <td>1</td>\n",
       "      <td>No</td>\n",
       "      <td>No phone service</td>\n",
       "      <td>DSL</td>\n",
       "      <td>No</td>\n",
       "      <td>...</td>\n",
       "      <td>No</td>\n",
       "      <td>No</td>\n",
       "      <td>No</td>\n",
       "      <td>No</td>\n",
       "      <td>Month-to-month</td>\n",
       "      <td>Yes</td>\n",
       "      <td>Electronic check</td>\n",
       "      <td>29.85</td>\n",
       "      <td>29.85</td>\n",
       "      <td>No</td>\n",
       "    </tr>\n",
       "    <tr>\n",
       "      <th>1</th>\n",
       "      <td>5575-GNVDE</td>\n",
       "      <td>Male</td>\n",
       "      <td>0</td>\n",
       "      <td>No</td>\n",
       "      <td>No</td>\n",
       "      <td>34</td>\n",
       "      <td>Yes</td>\n",
       "      <td>No</td>\n",
       "      <td>DSL</td>\n",
       "      <td>Yes</td>\n",
       "      <td>...</td>\n",
       "      <td>Yes</td>\n",
       "      <td>No</td>\n",
       "      <td>No</td>\n",
       "      <td>No</td>\n",
       "      <td>One year</td>\n",
       "      <td>No</td>\n",
       "      <td>Mailed check</td>\n",
       "      <td>56.95</td>\n",
       "      <td>1889.5</td>\n",
       "      <td>No</td>\n",
       "    </tr>\n",
       "    <tr>\n",
       "      <th>2</th>\n",
       "      <td>3668-QPYBK</td>\n",
       "      <td>Male</td>\n",
       "      <td>0</td>\n",
       "      <td>No</td>\n",
       "      <td>No</td>\n",
       "      <td>2</td>\n",
       "      <td>Yes</td>\n",
       "      <td>No</td>\n",
       "      <td>DSL</td>\n",
       "      <td>Yes</td>\n",
       "      <td>...</td>\n",
       "      <td>No</td>\n",
       "      <td>No</td>\n",
       "      <td>No</td>\n",
       "      <td>No</td>\n",
       "      <td>Month-to-month</td>\n",
       "      <td>Yes</td>\n",
       "      <td>Mailed check</td>\n",
       "      <td>53.85</td>\n",
       "      <td>108.15</td>\n",
       "      <td>Yes</td>\n",
       "    </tr>\n",
       "  </tbody>\n",
       "</table>\n",
       "<p>3 rows × 21 columns</p>\n",
       "</div>"
      ],
      "text/plain": [
       "   customerID  gender  SeniorCitizen Partner Dependents  tenure PhoneService  \\\n",
       "0  7590-VHVEG  Female              0     Yes         No       1           No   \n",
       "1  5575-GNVDE    Male              0      No         No      34          Yes   \n",
       "2  3668-QPYBK    Male              0      No         No       2          Yes   \n",
       "\n",
       "      MultipleLines InternetService OnlineSecurity  ... DeviceProtection  \\\n",
       "0  No phone service             DSL             No  ...               No   \n",
       "1                No             DSL            Yes  ...              Yes   \n",
       "2                No             DSL            Yes  ...               No   \n",
       "\n",
       "  TechSupport StreamingTV StreamingMovies        Contract PaperlessBilling  \\\n",
       "0          No          No              No  Month-to-month              Yes   \n",
       "1          No          No              No        One year               No   \n",
       "2          No          No              No  Month-to-month              Yes   \n",
       "\n",
       "      PaymentMethod MonthlyCharges  TotalCharges Churn  \n",
       "0  Electronic check          29.85         29.85    No  \n",
       "1      Mailed check          56.95        1889.5    No  \n",
       "2      Mailed check          53.85        108.15   Yes  \n",
       "\n",
       "[3 rows x 21 columns]"
      ]
     },
     "execution_count": 2,
     "metadata": {},
     "output_type": "execute_result"
    }
   ],
   "source": [
    "import pandas as pd\n",
    "import numpy as np\n",
    "\n",
    "df = pd.read_csv(\"./WA_Fn-UseC_-Telco-Customer-Churn.csv\")\n",
    "df.head(3)"
   ]
  },
  {
   "cell_type": "markdown",
   "metadata": {
    "id": "5lVI3YukZVDI"
   },
   "source": [
    "##### 1. Какое соотношение мужчин и женщин в представленном наборе данных?"
   ]
  },
  {
   "cell_type": "code",
   "execution_count": 3,
   "metadata": {
    "id": "xmc9xk8jZVDL"
   },
   "outputs": [
    {
     "data": {
      "text/plain": [
       "Male      3555\n",
       "Female    3488\n",
       "Name: gender, dtype: int64"
      ]
     },
     "execution_count": 3,
     "metadata": {},
     "output_type": "execute_result"
    }
   ],
   "source": [
    "df['gender'].value_counts()"
   ]
  },
  {
   "cell_type": "markdown",
   "metadata": {
    "id": "FXwqmWExZVDN"
   },
   "source": [
    "##### 2. Какое количество уникальных значений у поля InternetService?"
   ]
  },
  {
   "cell_type": "code",
   "execution_count": 4,
   "metadata": {
    "id": "jm6rVxgXZVDR"
   },
   "outputs": [
    {
     "data": {
      "text/plain": [
       "array(['DSL', 'Fiber optic', 'No'], dtype=object)"
      ]
     },
     "execution_count": 4,
     "metadata": {},
     "output_type": "execute_result"
    }
   ],
   "source": [
    "df['InternetService'].unique()"
   ]
  },
  {
   "cell_type": "code",
   "execution_count": 5,
   "metadata": {},
   "outputs": [
    {
     "data": {
      "text/plain": [
       "3"
      ]
     },
     "execution_count": 5,
     "metadata": {},
     "output_type": "execute_result"
    }
   ],
   "source": [
    "len(df['InternetService'].unique())"
   ]
  },
  {
   "cell_type": "markdown",
   "metadata": {
    "id": "I65wYgfFZVDW"
   },
   "source": [
    "##### 3. Выведите статистики по полю TotalCharges (median, mean, std)."
   ]
  },
  {
   "cell_type": "code",
   "execution_count": 6,
   "metadata": {
    "id": "3vCVt4jCZVDZ"
   },
   "outputs": [
    {
     "data": {
      "text/plain": [
       "count     7043\n",
       "unique    6531\n",
       "top           \n",
       "freq        11\n",
       "Name: TotalCharges, dtype: object"
      ]
     },
     "execution_count": 6,
     "metadata": {},
     "output_type": "execute_result"
    }
   ],
   "source": [
    "df['TotalCharges'].describe()"
   ]
  },
  {
   "cell_type": "markdown",
   "metadata": {},
   "source": [
    "Странность в том, что значение представлены типом object. Для того, чтобы считать среднее, медиану и т.д. нужно вначале перевести эти данные в тип float."
   ]
  },
  {
   "cell_type": "markdown",
   "metadata": {
    "id": "5eNrTA5rZVDh"
   },
   "source": [
    "В чем странность того, что вы получили? (подсказка: смотреть нужно на тип данных)"
   ]
  },
  {
   "cell_type": "markdown",
   "metadata": {
    "id": "3Puxd-QGZVDk"
   },
   "source": [
    "##### 4. Сделайте замену значений поля PhoneService  на числовые (Yes->1, No->0)"
   ]
  },
  {
   "cell_type": "code",
   "execution_count": 7,
   "metadata": {
    "id": "vzzZHresZVDm"
   },
   "outputs": [],
   "source": [
    "df['PhoneService'].replace({'Yes': 1, 'No': 0}, inplace=True)"
   ]
  },
  {
   "cell_type": "markdown",
   "metadata": {
    "id": "6yGo5lt7ZVDo"
   },
   "source": [
    "##### 5. Сделайте замену пробелов в поле TotalCharges на np.nan и приведите поле к типу данных float32. Затем заполните оставшиеся пропуски значением 0 с помощью метода fillna у столбца. Снова выведите статистики и сравните с тем, что вы видели в вопросе 3"
   ]
  },
  {
   "cell_type": "code",
   "execution_count": 8,
   "metadata": {
    "id": "ujB9E0oqZVDp"
   },
   "outputs": [],
   "source": [
    "df['TotalCharges'].replace({' ': np.nan}, inplace=True)"
   ]
  },
  {
   "cell_type": "code",
   "execution_count": 9,
   "metadata": {},
   "outputs": [],
   "source": [
    "df['TotalCharges'] = df['TotalCharges'].astype('float32')"
   ]
  },
  {
   "cell_type": "code",
   "execution_count": 10,
   "metadata": {},
   "outputs": [],
   "source": [
    "df['TotalCharges'] = df['TotalCharges'].fillna(0)"
   ]
  },
  {
   "cell_type": "code",
   "execution_count": 11,
   "metadata": {},
   "outputs": [
    {
     "data": {
      "text/plain": [
       "count    7043.000000\n",
       "mean     2279.734375\n",
       "std      2266.794434\n",
       "min         0.000000\n",
       "25%       398.549988\n",
       "50%      1394.550049\n",
       "75%      3786.599976\n",
       "max      8684.799805\n",
       "Name: TotalCharges, dtype: float64"
      ]
     },
     "execution_count": 11,
     "metadata": {},
     "output_type": "execute_result"
    }
   ],
   "source": [
    "df['TotalCharges'].describe()"
   ]
  },
  {
   "cell_type": "markdown",
   "metadata": {
    "id": "rXFGZ9rgZVDr"
   },
   "source": [
    "##### 6. Сделайте замену значений поля Churn на числовые (Yes -> 1, No - 0)"
   ]
  },
  {
   "cell_type": "code",
   "execution_count": 12,
   "metadata": {
    "id": "-SE3uL-kZVDw"
   },
   "outputs": [],
   "source": [
    "df['Churn'].replace({'Yes': 1, 'No': 0}, inplace=True)"
   ]
  },
  {
   "cell_type": "markdown",
   "metadata": {
    "id": "tQxxX1zUZVDx"
   },
   "source": [
    "##### 7. Сделайте замену значений полей StreamingMovies, StreamingTV, TechSupport  на числовые (Yes -> 1, No -> 0, No internet service->0)"
   ]
  },
  {
   "cell_type": "code",
   "execution_count": 13,
   "metadata": {
    "id": "ai8Fh09UZVDz"
   },
   "outputs": [],
   "source": [
    "for col in ['StreamingMovies', 'StreamingTV', 'TechSupport']:\n",
    "    df[col].replace({'Yes': 1, 'No': 0, 'No internet service': 0}, inplace=True)"
   ]
  },
  {
   "cell_type": "markdown",
   "metadata": {
    "id": "aIqWmj4RZVD1"
   },
   "source": [
    "##### 8. Заполните пропуски в поле PhoneService значением 0"
   ]
  },
  {
   "cell_type": "code",
   "execution_count": 14,
   "metadata": {
    "id": "8N8zvLsHZVD3"
   },
   "outputs": [],
   "source": [
    "df['PhoneService'] = df['PhoneService'].fillna(0)"
   ]
  },
  {
   "cell_type": "markdown",
   "metadata": {
    "id": "LatJ0ju1ZVD7"
   },
   "source": [
    "##### 8. Для нашего датасета оставьте только указанный ниже список полей, удалив все другие и выведите верхние 3 строки"
   ]
  },
  {
   "cell_type": "code",
   "execution_count": 15,
   "metadata": {
    "id": "WnvPU0o3ZVD-"
   },
   "outputs": [
    {
     "data": {
      "text/html": [
       "<div>\n",
       "<style scoped>\n",
       "    .dataframe tbody tr th:only-of-type {\n",
       "        vertical-align: middle;\n",
       "    }\n",
       "\n",
       "    .dataframe tbody tr th {\n",
       "        vertical-align: top;\n",
       "    }\n",
       "\n",
       "    .dataframe thead th {\n",
       "        text-align: right;\n",
       "    }\n",
       "</style>\n",
       "<table border=\"1\" class=\"dataframe\">\n",
       "  <thead>\n",
       "    <tr style=\"text-align: right;\">\n",
       "      <th></th>\n",
       "      <th>gender</th>\n",
       "      <th>tenure</th>\n",
       "      <th>PhoneService</th>\n",
       "      <th>TotalCharges</th>\n",
       "      <th>StreamingMovies</th>\n",
       "      <th>StreamingTV</th>\n",
       "      <th>TechSupport</th>\n",
       "      <th>Churn</th>\n",
       "    </tr>\n",
       "  </thead>\n",
       "  <tbody>\n",
       "    <tr>\n",
       "      <th>0</th>\n",
       "      <td>Female</td>\n",
       "      <td>1</td>\n",
       "      <td>0</td>\n",
       "      <td>29.850000</td>\n",
       "      <td>0</td>\n",
       "      <td>0</td>\n",
       "      <td>0</td>\n",
       "      <td>0</td>\n",
       "    </tr>\n",
       "    <tr>\n",
       "      <th>1</th>\n",
       "      <td>Male</td>\n",
       "      <td>34</td>\n",
       "      <td>1</td>\n",
       "      <td>1889.500000</td>\n",
       "      <td>0</td>\n",
       "      <td>0</td>\n",
       "      <td>0</td>\n",
       "      <td>0</td>\n",
       "    </tr>\n",
       "    <tr>\n",
       "      <th>2</th>\n",
       "      <td>Male</td>\n",
       "      <td>2</td>\n",
       "      <td>1</td>\n",
       "      <td>108.150002</td>\n",
       "      <td>0</td>\n",
       "      <td>0</td>\n",
       "      <td>0</td>\n",
       "      <td>1</td>\n",
       "    </tr>\n",
       "  </tbody>\n",
       "</table>\n",
       "</div>"
      ],
      "text/plain": [
       "   gender  tenure  PhoneService  TotalCharges  StreamingMovies  StreamingTV  \\\n",
       "0  Female       1             0     29.850000                0            0   \n",
       "1    Male      34             1   1889.500000                0            0   \n",
       "2    Male       2             1    108.150002                0            0   \n",
       "\n",
       "   TechSupport  Churn  \n",
       "0            0      0  \n",
       "1            0      0  \n",
       "2            0      1  "
      ]
     },
     "execution_count": 15,
     "metadata": {},
     "output_type": "execute_result"
    }
   ],
   "source": [
    "columns = ['gender', 'tenure', 'PhoneService', 'TotalCharges', \n",
    "           'StreamingMovies', 'StreamingTV', 'TechSupport', 'Churn']\n",
    "df = df[columns]\n",
    "df.head(3)"
   ]
  },
  {
   "cell_type": "markdown",
   "metadata": {
    "id": "QllKYU_eZVEB"
   },
   "source": [
    "##### 9. Разделите датасет на тренировочную и тестовую выборку."
   ]
  },
  {
   "cell_type": "code",
   "execution_count": 16,
   "metadata": {
    "id": "O2BBQJR_ZVEE"
   },
   "outputs": [],
   "source": [
    "features = ['gender', 'tenure', 'PhoneService', 'TotalCharges', 'StreamingMovies', 'StreamingTV', 'TechSupport']\n",
    "target = 'Churn'"
   ]
  },
  {
   "cell_type": "code",
   "execution_count": 17,
   "metadata": {},
   "outputs": [],
   "source": [
    "from sklearn.model_selection import train_test_split\n",
    "x_train, x_test, y_train, y_test = train_test_split(df[features], df[target], test_size=0.3)"
   ]
  },
  {
   "cell_type": "markdown",
   "metadata": {
    "id": "XSUwcrdOZVEG"
   },
   "source": [
    "##### 10. соберите pipeline для поля gender (нужно разобраться и изучить https://scikit-learn.org/stable/modules/generated/sklearn.pipeline.Pipeline.html ) из классов ColumnSelector и OHEEncoder, которые уже написаны ниже заранее"
   ]
  },
  {
   "cell_type": "code",
   "execution_count": 18,
   "metadata": {
    "id": "tdZ9OCmuZVEH"
   },
   "outputs": [],
   "source": [
    "from sklearn.base import BaseEstimator, TransformerMixin\n",
    "from sklearn.pipeline import Pipeline, make_pipeline\n",
    "\n",
    "class ColumnSelector(BaseEstimator, TransformerMixin):\n",
    "    \"\"\"\n",
    "    Transformer to select a single column from the data frame to perform additional transformations on\n",
    "    \"\"\"\n",
    "    def __init__(self, key):\n",
    "        self.key = key\n",
    "\n",
    "    def fit(self, X, y=None):\n",
    "        return self\n",
    "\n",
    "    def transform(self, X):\n",
    "        return X[self.key]\n",
    "    \n",
    "class NumberSelector(BaseEstimator, TransformerMixin):\n",
    "    \"\"\"\n",
    "    Transformer to select a single column from the data frame to perform additional transformations on\n",
    "    Use on numeric columns in the data\n",
    "    \"\"\"\n",
    "    def __init__(self, key):\n",
    "        self.key = key\n",
    "\n",
    "    def fit(self, X, y=None):\n",
    "        return self\n",
    "\n",
    "    def transform(self, X):\n",
    "        return X[[self.key]]\n",
    "    \n",
    "class OHEEncoder(BaseEstimator, TransformerMixin):\n",
    "    def __init__(self, key):\n",
    "        self.key = key\n",
    "        self.columns = []\n",
    "\n",
    "    def fit(self, X, y=None):\n",
    "        self.columns = [col for col in pd.get_dummies(X, prefix=self.key).columns]\n",
    "        return self\n",
    "\n",
    "    def transform(self, X):\n",
    "        X = pd.get_dummies(X, prefix=self.key)\n",
    "        test_columns = [col for col in X.columns]\n",
    "        for col_ in test_columns:\n",
    "            if col_ not in self.columns:\n",
    "                X[col_] = 0\n",
    "        return X[self.columns]\n",
    "\n",
    "gender = Pipeline([('column_selector', ColumnSelector(key='gender')),\n",
    "                  ('OHEEncoder_selector', OHEEncoder(key='gender'))])"
   ]
  },
  {
   "cell_type": "code",
   "execution_count": 19,
   "metadata": {},
   "outputs": [
    {
     "data": {
      "text/plain": [
       "Pipeline(steps=[('column_selector', ColumnSelector(key='gender')),\n",
       "                ('OHEEncoder_selector', OHEEncoder(key='gender'))])"
      ]
     },
     "execution_count": 19,
     "metadata": {},
     "output_type": "execute_result"
    }
   ],
   "source": [
    "gender"
   ]
  },
  {
   "cell_type": "markdown",
   "metadata": {
    "id": "NzbutVLuZVEN"
   },
   "source": [
    "##### 11. Вызовите метод fit_transform у пайплайна gender и передайте туда нашу тренировочную выборку (пример по ссылке из документации https://scikit-learn.org/stable/modules/generated/sklearn.pipeline.Pipeline.html#sklearn.pipeline.Pipeline.fit)"
   ]
  },
  {
   "cell_type": "code",
   "execution_count": 20,
   "metadata": {
    "id": "dh5YHRjVZVEP"
   },
   "outputs": [
    {
     "data": {
      "text/html": [
       "<div>\n",
       "<style scoped>\n",
       "    .dataframe tbody tr th:only-of-type {\n",
       "        vertical-align: middle;\n",
       "    }\n",
       "\n",
       "    .dataframe tbody tr th {\n",
       "        vertical-align: top;\n",
       "    }\n",
       "\n",
       "    .dataframe thead th {\n",
       "        text-align: right;\n",
       "    }\n",
       "</style>\n",
       "<table border=\"1\" class=\"dataframe\">\n",
       "  <thead>\n",
       "    <tr style=\"text-align: right;\">\n",
       "      <th></th>\n",
       "      <th>gender_Female</th>\n",
       "      <th>gender_Male</th>\n",
       "    </tr>\n",
       "  </thead>\n",
       "  <tbody>\n",
       "    <tr>\n",
       "      <th>2970</th>\n",
       "      <td>0</td>\n",
       "      <td>1</td>\n",
       "    </tr>\n",
       "    <tr>\n",
       "      <th>3097</th>\n",
       "      <td>0</td>\n",
       "      <td>1</td>\n",
       "    </tr>\n",
       "    <tr>\n",
       "      <th>1615</th>\n",
       "      <td>1</td>\n",
       "      <td>0</td>\n",
       "    </tr>\n",
       "    <tr>\n",
       "      <th>5843</th>\n",
       "      <td>0</td>\n",
       "      <td>1</td>\n",
       "    </tr>\n",
       "    <tr>\n",
       "      <th>608</th>\n",
       "      <td>0</td>\n",
       "      <td>1</td>\n",
       "    </tr>\n",
       "    <tr>\n",
       "      <th>...</th>\n",
       "      <td>...</td>\n",
       "      <td>...</td>\n",
       "    </tr>\n",
       "    <tr>\n",
       "      <th>437</th>\n",
       "      <td>0</td>\n",
       "      <td>1</td>\n",
       "    </tr>\n",
       "    <tr>\n",
       "      <th>523</th>\n",
       "      <td>1</td>\n",
       "      <td>0</td>\n",
       "    </tr>\n",
       "    <tr>\n",
       "      <th>3909</th>\n",
       "      <td>0</td>\n",
       "      <td>1</td>\n",
       "    </tr>\n",
       "    <tr>\n",
       "      <th>4194</th>\n",
       "      <td>1</td>\n",
       "      <td>0</td>\n",
       "    </tr>\n",
       "    <tr>\n",
       "      <th>3652</th>\n",
       "      <td>1</td>\n",
       "      <td>0</td>\n",
       "    </tr>\n",
       "  </tbody>\n",
       "</table>\n",
       "<p>4930 rows × 2 columns</p>\n",
       "</div>"
      ],
      "text/plain": [
       "      gender_Female  gender_Male\n",
       "2970              0            1\n",
       "3097              0            1\n",
       "1615              1            0\n",
       "5843              0            1\n",
       "608               0            1\n",
       "...             ...          ...\n",
       "437               0            1\n",
       "523               1            0\n",
       "3909              0            1\n",
       "4194              1            0\n",
       "3652              1            0\n",
       "\n",
       "[4930 rows x 2 columns]"
      ]
     },
     "execution_count": 20,
     "metadata": {},
     "output_type": "execute_result"
    }
   ],
   "source": [
    "gender.fit_transform(x_train)"
   ]
  },
  {
   "cell_type": "markdown",
   "metadata": {
    "id": "er5mJbp-ZVES"
   },
   "source": [
    "##### 12. Здесь код писать уже не нужно (все сделано за вас). К полю tenure применяем StandardScaler (нормируем и центрируем). Ссылка - https://scikit-learn.org/stable/modules/generated/sklearn.preprocessing.StandardScaler.html\n",
    "Вопрос - в каких случаях это может быть полезно?"
   ]
  },
  {
   "cell_type": "code",
   "execution_count": 21,
   "metadata": {
    "id": "-X2wXi9oZVET"
   },
   "outputs": [],
   "source": [
    "from sklearn.preprocessing import StandardScaler\n",
    "\n",
    "tenure =  Pipeline([\n",
    "                ('selector', NumberSelector(key='tenure')),\n",
    "                ('standard', StandardScaler())\n",
    "            ])"
   ]
  },
  {
   "cell_type": "markdown",
   "metadata": {
    "id": "bM_p4uzyZVEV"
   },
   "source": [
    "##### 13. Напишите аналогичный (как для tenure) преобразователь поля TotalCharges"
   ]
  },
  {
   "cell_type": "code",
   "execution_count": 22,
   "metadata": {
    "id": "lPIlQb4IZVEW"
   },
   "outputs": [],
   "source": [
    "TotalCharges =  Pipeline([\n",
    "                ('selector', NumberSelector(key='TotalCharges')),\n",
    "                ('standard', StandardScaler())\n",
    "            ])"
   ]
  },
  {
   "cell_type": "markdown",
   "metadata": {
    "id": "YD7ls6nVZVEY"
   },
   "source": [
    "Объединение всех \"кубиков\" очень легко сделать таким образом"
   ]
  },
  {
   "cell_type": "code",
   "execution_count": 23,
   "metadata": {
    "id": "gdYgsOseZVEZ"
   },
   "outputs": [],
   "source": [
    "from sklearn.pipeline import FeatureUnion\n",
    "\n",
    "number_features = Pipeline([\n",
    "                ('selector', ColumnSelector(key=['PhoneService',\n",
    "                                                 'StreamingMovies', 'StreamingTV', \n",
    "                                                 'TechSupport']))\n",
    "            ])"
   ]
  },
  {
   "cell_type": "code",
   "execution_count": 24,
   "metadata": {
    "id": "amC-8MxdZVEb"
   },
   "outputs": [],
   "source": [
    "feats = FeatureUnion([('tenure', tenure),\n",
    "                      ('TotalCharges', TotalCharges),\n",
    "                      ('continuos_features', number_features),\n",
    "                      ('gender', gender)])\n",
    "feature_processing = Pipeline([('feats', feats)])"
   ]
  },
  {
   "cell_type": "markdown",
   "metadata": {
    "id": "1md10e-rZVEd"
   },
   "source": [
    "На этом этапе что мы сделали:\n",
    "1. написали преобразователь поля gender, который делает OHE кодирование\n",
    "2. написали преобразователь для поля tenure, который нормирует и центрирует его \n",
    "3. повторили п. 2 для поля TotalCharges\n",
    "3. для всех остальных просто взяли признаки как они есть, без изменений"
   ]
  },
  {
   "cell_type": "markdown",
   "metadata": {
    "id": "mU5VQR6hZVEe"
   },
   "source": [
    "У нас уже готов наш пайплайн, который преобразовывает признаки. Давайте обучим модель поверх него. В качестве модели возьмем RandomForestClassifier"
   ]
  },
  {
   "cell_type": "code",
   "execution_count": 25,
   "metadata": {
    "id": "6gFUxbMJ-0og",
    "scrolled": true
   },
   "outputs": [
    {
     "data": {
      "text/plain": [
       "Pipeline(steps=[('features',\n",
       "                 FeatureUnion(transformer_list=[('tenure',\n",
       "                                                 Pipeline(steps=[('selector',\n",
       "                                                                  NumberSelector(key='tenure')),\n",
       "                                                                 ('standard',\n",
       "                                                                  StandardScaler())])),\n",
       "                                                ('TotalCharges',\n",
       "                                                 Pipeline(steps=[('selector',\n",
       "                                                                  NumberSelector(key='TotalCharges')),\n",
       "                                                                 ('standard',\n",
       "                                                                  StandardScaler())])),\n",
       "                                                ('continuos_features',\n",
       "                                                 Pipeline(steps=[('selector',\n",
       "                                                                  ColumnSelector(key=['PhoneService',\n",
       "                                                                                      'StreamingMovies',\n",
       "                                                                                      'StreamingTV',\n",
       "                                                                                      'TechSupport']))])),\n",
       "                                                ('gender',\n",
       "                                                 Pipeline(steps=[('column_selector',\n",
       "                                                                  ColumnSelector(key='gender')),\n",
       "                                                                 ('OHEEncoder_selector',\n",
       "                                                                  OHEEncoder(key='gender'))]))])),\n",
       "                ('classifier', RandomForestClassifier(random_state=42))])"
      ]
     },
     "execution_count": 25,
     "metadata": {},
     "output_type": "execute_result"
    }
   ],
   "source": [
    "from sklearn.ensemble import RandomForestClassifier\n",
    "\n",
    "pipeline = Pipeline([\n",
    "    ('features', feats),\n",
    "    ('classifier', RandomForestClassifier(random_state=42)),\n",
    "])\n",
    "\n",
    "pipeline.fit(x_train, y_train)"
   ]
  },
  {
   "cell_type": "markdown",
   "metadata": {
    "id": "CQR5Ql5HZVEh"
   },
   "source": [
    "##### 14. Сделайте прогноз вероятности оттока для X_test с помощью нашего предобученного на предыдущем шаге пайплайна и убедитесь что вам возвращаются вероятности для 2 классов"
   ]
  },
  {
   "cell_type": "code",
   "execution_count": 28,
   "metadata": {
    "id": "WcI9aG5SZVEj"
   },
   "outputs": [
    {
     "data": {
      "text/plain": [
       "array([[0.28      , 0.72      ],\n",
       "       [0.15      , 0.85      ],\n",
       "       [0.97      , 0.03      ],\n",
       "       ...,\n",
       "       [0.93583333, 0.06416667],\n",
       "       [0.68      , 0.32      ],\n",
       "       [0.72      , 0.28      ]])"
      ]
     },
     "execution_count": 28,
     "metadata": {},
     "output_type": "execute_result"
    }
   ],
   "source": [
    "pipeline.predict_proba(x_test)"
   ]
  },
  {
   "cell_type": "markdown",
   "metadata": {
    "id": "qrB3aG9cZVEj"
   },
   "source": [
    "##### 15. Посчитайте метрики качества получившейся модели (roc_auc)"
   ]
  },
  {
   "cell_type": "code",
   "execution_count": 31,
   "metadata": {
    "id": "vDX9EcbyZVEl"
   },
   "outputs": [
    {
     "data": {
      "text/plain": [
       "0.7799406270599485"
      ]
     },
     "execution_count": 31,
     "metadata": {},
     "output_type": "execute_result"
    }
   ],
   "source": [
    "from sklearn.metrics import roc_auc_score, precision_recall_curve\n",
    "\n",
    "roc_auc_score(y_test, pipeline.predict_proba(x_test)[:,1])"
   ]
  },
  {
   "cell_type": "code",
   "execution_count": 32,
   "metadata": {},
   "outputs": [],
   "source": [
    "precision, recall, thresholds = precision_recall_curve(y_test.values, pipeline.predict_proba(x_test)[:,1])"
   ]
  },
  {
   "cell_type": "code",
   "execution_count": 35,
   "metadata": {},
   "outputs": [],
   "source": [
    "b=1\n",
    "fscore = (1 +b**2) * (precision * recall) / (b**2 * precision + recall)\n",
    "ix = np.argmax(fscore)\n",
    "fscore_max = fscore[ix]\n",
    "precision_max = precision[ix]\n",
    "recall_max = recall[ix]"
   ]
  },
  {
   "cell_type": "code",
   "execution_count": 36,
   "metadata": {},
   "outputs": [
    {
     "name": "stdout",
     "output_type": "stream",
     "text": [
      "Best Threshold=0.170, F-Score=0.557, Precision=0.431, Recall=0.788\n"
     ]
    }
   ],
   "source": [
    "print(f'Best Threshold={thresholds[ix]:.3f}, F-Score={fscore_max:.3f}, Precision={precision_max:.3f}, Recall={recall_max:.3f}')"
   ]
  },
  {
   "cell_type": "markdown",
   "metadata": {
    "id": "m7weSS1nZVEm"
   },
   "source": [
    "### Сохраним наш пайплайн"
   ]
  },
  {
   "cell_type": "code",
   "execution_count": 38,
   "metadata": {
    "id": "3689h2aTZVEm"
   },
   "outputs": [],
   "source": [
    "import dill\n",
    "with open(\"model_RF.dill\", \"wb\") as f:\n",
    "    dill.dump(pipeline, f)"
   ]
  },
  {
   "cell_type": "code",
   "execution_count": null,
   "metadata": {},
   "outputs": [],
   "source": []
  }
 ],
 "metadata": {
  "colab": {
   "collapsed_sections": [],
   "include_colab_link": true,
   "name": "HW1.ipynb",
   "provenance": [],
   "toc_visible": true
  },
  "kernelspec": {
   "display_name": "Python 3",
   "language": "python",
   "name": "python3"
  },
  "language_info": {
   "codemirror_mode": {
    "name": "ipython",
    "version": 3
   },
   "file_extension": ".py",
   "mimetype": "text/x-python",
   "name": "python",
   "nbconvert_exporter": "python",
   "pygments_lexer": "ipython3",
   "version": "3.9.7"
  }
 },
 "nbformat": 4,
 "nbformat_minor": 1
}
